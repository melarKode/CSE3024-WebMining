{
 "metadata": {
  "language_info": {
   "codemirror_mode": {
    "name": "ipython",
    "version": 3
   },
   "file_extension": ".py",
   "mimetype": "text/x-python",
   "name": "python",
   "nbconvert_exporter": "python",
   "pygments_lexer": "ipython3",
   "version": "3.8.3-final"
  },
  "orig_nbformat": 2,
  "kernelspec": {
   "name": "python3",
   "display_name": "Python 3"
  }
 },
 "nbformat": 4,
 "nbformat_minor": 2,
 "cells": [
  {
   "cell_type": "code",
   "execution_count": 8,
   "metadata": {},
   "outputs": [
    {
     "output_type": "execute_result",
     "data": {
      "text/plain": [
       "  InvoiceNo StockCode  ... CustomerID         Country\n",
       "0    536365    85123A  ...    17850.0  United Kingdom\n",
       "1    536365     71053  ...    17850.0  United Kingdom\n",
       "2    536365    84406B  ...    17850.0  United Kingdom\n",
       "3    536365    84029G  ...    17850.0  United Kingdom\n",
       "4    536365    84029E  ...    17850.0  United Kingdom\n",
       "\n",
       "[5 rows x 8 columns]"
      ],
      "text/html": "<div>\n<style scoped>\n    .dataframe tbody tr th:only-of-type {\n        vertical-align: middle;\n    }\n\n    .dataframe tbody tr th {\n        vertical-align: top;\n    }\n\n    .dataframe thead th {\n        text-align: right;\n    }\n</style>\n<table border=\"1\" class=\"dataframe\">\n  <thead>\n    <tr style=\"text-align: right;\">\n      <th></th>\n      <th>InvoiceNo</th>\n      <th>StockCode</th>\n      <th>Description</th>\n      <th>Quantity</th>\n      <th>InvoiceDate</th>\n      <th>UnitPrice</th>\n      <th>CustomerID</th>\n      <th>Country</th>\n    </tr>\n  </thead>\n  <tbody>\n    <tr>\n      <th>0</th>\n      <td>536365</td>\n      <td>85123A</td>\n      <td>WHITE HANGING HEART T-LIGHT HOLDER</td>\n      <td>6</td>\n      <td>2010-12-01 08:26:00</td>\n      <td>2.55</td>\n      <td>17850.0</td>\n      <td>United Kingdom</td>\n    </tr>\n    <tr>\n      <th>1</th>\n      <td>536365</td>\n      <td>71053</td>\n      <td>WHITE METAL LANTERN</td>\n      <td>6</td>\n      <td>2010-12-01 08:26:00</td>\n      <td>3.39</td>\n      <td>17850.0</td>\n      <td>United Kingdom</td>\n    </tr>\n    <tr>\n      <th>2</th>\n      <td>536365</td>\n      <td>84406B</td>\n      <td>CREAM CUPID HEARTS COAT HANGER</td>\n      <td>8</td>\n      <td>2010-12-01 08:26:00</td>\n      <td>2.75</td>\n      <td>17850.0</td>\n      <td>United Kingdom</td>\n    </tr>\n    <tr>\n      <th>3</th>\n      <td>536365</td>\n      <td>84029G</td>\n      <td>KNITTED UNION FLAG HOT WATER BOTTLE</td>\n      <td>6</td>\n      <td>2010-12-01 08:26:00</td>\n      <td>3.39</td>\n      <td>17850.0</td>\n      <td>United Kingdom</td>\n    </tr>\n    <tr>\n      <th>4</th>\n      <td>536365</td>\n      <td>84029E</td>\n      <td>RED WOOLLY HOTTIE WHITE HEART.</td>\n      <td>6</td>\n      <td>2010-12-01 08:26:00</td>\n      <td>3.39</td>\n      <td>17850.0</td>\n      <td>United Kingdom</td>\n    </tr>\n  </tbody>\n</table>\n</div>"
     },
     "metadata": {},
     "execution_count": 8
    }
   ],
   "source": [
    "import pandas as pd\n",
    "from mlxtend.frequent_patterns import apriori\n",
    "from mlxtend.frequent_patterns import association_rules\n",
    "df=pd.read_excel('OnlineRetail.xlsx')\n",
    "df.head()"
   ]
  },
  {
   "cell_type": "code",
   "execution_count": 9,
   "metadata": {},
   "outputs": [],
   "source": [
    "df['Description'] = df['Description'].str.strip()\n",
    "df.dropna(axis=0, subset=['InvoiceNo'], inplace=True)\n",
    "df['InvoiceNo'] = df['InvoiceNo'].astype('str')\n",
    "df = df[~df['InvoiceNo'].str.contains('C')]"
   ]
  },
  {
   "cell_type": "code",
   "execution_count": 10,
   "metadata": {},
   "outputs": [],
   "source": [
    "basket = (df[df['Country'] ==\"France\"]\n",
    "          .groupby(['InvoiceNo', 'Description'])['Quantity']\n",
    "          .sum().unstack().reset_index().fillna(0)\n",
    "          .set_index('InvoiceNo'))"
   ]
  },
  {
   "cell_type": "code",
   "execution_count": 11,
   "metadata": {},
   "outputs": [],
   "source": [
    "def encode_units(x):\n",
    "    if x <= 0:\n",
    "        return 0\n",
    "    if x >= 1:\n",
    "        return 1\n",
    "\n",
    "basket_sets = basket.applymap(encode_units)\n",
    "basket_sets.drop('POSTAGE', inplace=True, axis=1)"
   ]
  },
  {
   "cell_type": "code",
   "execution_count": 12,
   "metadata": {},
   "outputs": [],
   "source": [
    "frequent_itemsets = apriori(basket_sets, min_support=0.07, use_colnames=True)"
   ]
  },
  {
   "cell_type": "code",
   "execution_count": 13,
   "metadata": {},
   "outputs": [
    {
     "output_type": "execute_result",
     "data": {
      "text/plain": [
       "                    antecedents  ... conviction\n",
       "0   (ALARM CLOCK BAKELIKE PINK)  ...   3.283859\n",
       "1  (ALARM CLOCK BAKELIKE GREEN)  ...   3.791383\n",
       "2  (ALARM CLOCK BAKELIKE GREEN)  ...   4.916181\n",
       "3    (ALARM CLOCK BAKELIKE RED)  ...   5.568878\n",
       "4   (ALARM CLOCK BAKELIKE PINK)  ...   3.293135\n",
       "\n",
       "[5 rows x 9 columns]"
      ],
      "text/html": "<div>\n<style scoped>\n    .dataframe tbody tr th:only-of-type {\n        vertical-align: middle;\n    }\n\n    .dataframe tbody tr th {\n        vertical-align: top;\n    }\n\n    .dataframe thead th {\n        text-align: right;\n    }\n</style>\n<table border=\"1\" class=\"dataframe\">\n  <thead>\n    <tr style=\"text-align: right;\">\n      <th></th>\n      <th>antecedents</th>\n      <th>consequents</th>\n      <th>antecedent support</th>\n      <th>consequent support</th>\n      <th>support</th>\n      <th>confidence</th>\n      <th>lift</th>\n      <th>leverage</th>\n      <th>conviction</th>\n    </tr>\n  </thead>\n  <tbody>\n    <tr>\n      <th>0</th>\n      <td>(ALARM CLOCK BAKELIKE PINK)</td>\n      <td>(ALARM CLOCK BAKELIKE GREEN)</td>\n      <td>0.102041</td>\n      <td>0.096939</td>\n      <td>0.073980</td>\n      <td>0.725000</td>\n      <td>7.478947</td>\n      <td>0.064088</td>\n      <td>3.283859</td>\n    </tr>\n    <tr>\n      <th>1</th>\n      <td>(ALARM CLOCK BAKELIKE GREEN)</td>\n      <td>(ALARM CLOCK BAKELIKE PINK)</td>\n      <td>0.096939</td>\n      <td>0.102041</td>\n      <td>0.073980</td>\n      <td>0.763158</td>\n      <td>7.478947</td>\n      <td>0.064088</td>\n      <td>3.791383</td>\n    </tr>\n    <tr>\n      <th>2</th>\n      <td>(ALARM CLOCK BAKELIKE GREEN)</td>\n      <td>(ALARM CLOCK BAKELIKE RED)</td>\n      <td>0.096939</td>\n      <td>0.094388</td>\n      <td>0.079082</td>\n      <td>0.815789</td>\n      <td>8.642959</td>\n      <td>0.069932</td>\n      <td>4.916181</td>\n    </tr>\n    <tr>\n      <th>3</th>\n      <td>(ALARM CLOCK BAKELIKE RED)</td>\n      <td>(ALARM CLOCK BAKELIKE GREEN)</td>\n      <td>0.094388</td>\n      <td>0.096939</td>\n      <td>0.079082</td>\n      <td>0.837838</td>\n      <td>8.642959</td>\n      <td>0.069932</td>\n      <td>5.568878</td>\n    </tr>\n    <tr>\n      <th>4</th>\n      <td>(ALARM CLOCK BAKELIKE PINK)</td>\n      <td>(ALARM CLOCK BAKELIKE RED)</td>\n      <td>0.102041</td>\n      <td>0.094388</td>\n      <td>0.073980</td>\n      <td>0.725000</td>\n      <td>7.681081</td>\n      <td>0.064348</td>\n      <td>3.293135</td>\n    </tr>\n  </tbody>\n</table>\n</div>"
     },
     "metadata": {},
     "execution_count": 13
    }
   ],
   "source": [
    "rules = association_rules(frequent_itemsets, metric=\"lift\", min_threshold=1)\n",
    "rules.head()"
   ]
  },
  {
   "cell_type": "code",
   "execution_count": 22,
   "metadata": {},
   "outputs": [
    {
     "output_type": "execute_result",
     "data": {
      "text/plain": [
       "                             antecedents  ... conviction\n",
       "10       (PLASTERS IN TIN CIRCUS PARADE)  ...   2.104592\n",
       "12    (PLASTERS IN TIN WOODLAND ANIMALS)  ...   2.221939\n",
       "13            (PLASTERS IN TIN SPACEBOY)  ...   3.443878\n",
       "14  (SET/20 RED RETROSPOT PAPER NAPKINS)  ...   3.736395\n",
       "15         (SET/6 RED SPOTTY PAPER CUPS)  ...   3.345481\n",
       "16  (SET/20 RED RETROSPOT PAPER NAPKINS)  ...   3.780612\n",
       "17       (SET/6 RED SPOTTY PAPER PLATES)  ...   4.336735\n",
       "18       (SET/6 RED SPOTTY PAPER PLATES)  ...  21.556122\n",
       "19         (SET/6 RED SPOTTY PAPER CUPS)  ...   7.852041\n",
       "\n",
       "[9 rows x 9 columns]"
      ],
      "text/html": "<div>\n<style scoped>\n    .dataframe tbody tr th:only-of-type {\n        vertical-align: middle;\n    }\n\n    .dataframe tbody tr th {\n        vertical-align: top;\n    }\n\n    .dataframe thead th {\n        text-align: right;\n    }\n</style>\n<table border=\"1\" class=\"dataframe\">\n  <thead>\n    <tr style=\"text-align: right;\">\n      <th></th>\n      <th>antecedents</th>\n      <th>consequents</th>\n      <th>antecedent support</th>\n      <th>consequent support</th>\n      <th>support</th>\n      <th>confidence</th>\n      <th>lift</th>\n      <th>leverage</th>\n      <th>conviction</th>\n    </tr>\n  </thead>\n  <tbody>\n    <tr>\n      <th>10</th>\n      <td>(PLASTERS IN TIN CIRCUS PARADE)</td>\n      <td>(PLASTERS IN TIN WOODLAND ANIMALS)</td>\n      <td>0.168367</td>\n      <td>0.170918</td>\n      <td>0.102041</td>\n      <td>0.606061</td>\n      <td>3.545907</td>\n      <td>0.073264</td>\n      <td>2.104592</td>\n    </tr>\n    <tr>\n      <th>12</th>\n      <td>(PLASTERS IN TIN WOODLAND ANIMALS)</td>\n      <td>(PLASTERS IN TIN SPACEBOY)</td>\n      <td>0.170918</td>\n      <td>0.137755</td>\n      <td>0.104592</td>\n      <td>0.611940</td>\n      <td>4.442233</td>\n      <td>0.081047</td>\n      <td>2.221939</td>\n    </tr>\n    <tr>\n      <th>13</th>\n      <td>(PLASTERS IN TIN SPACEBOY)</td>\n      <td>(PLASTERS IN TIN WOODLAND ANIMALS)</td>\n      <td>0.137755</td>\n      <td>0.170918</td>\n      <td>0.104592</td>\n      <td>0.759259</td>\n      <td>4.442233</td>\n      <td>0.081047</td>\n      <td>3.443878</td>\n    </tr>\n    <tr>\n      <th>14</th>\n      <td>(SET/20 RED RETROSPOT PAPER NAPKINS)</td>\n      <td>(SET/6 RED SPOTTY PAPER CUPS)</td>\n      <td>0.132653</td>\n      <td>0.137755</td>\n      <td>0.102041</td>\n      <td>0.769231</td>\n      <td>5.584046</td>\n      <td>0.083767</td>\n      <td>3.736395</td>\n    </tr>\n    <tr>\n      <th>15</th>\n      <td>(SET/6 RED SPOTTY PAPER CUPS)</td>\n      <td>(SET/20 RED RETROSPOT PAPER NAPKINS)</td>\n      <td>0.137755</td>\n      <td>0.132653</td>\n      <td>0.102041</td>\n      <td>0.740741</td>\n      <td>5.584046</td>\n      <td>0.083767</td>\n      <td>3.345481</td>\n    </tr>\n    <tr>\n      <th>16</th>\n      <td>(SET/20 RED RETROSPOT PAPER NAPKINS)</td>\n      <td>(SET/6 RED SPOTTY PAPER PLATES)</td>\n      <td>0.132653</td>\n      <td>0.127551</td>\n      <td>0.102041</td>\n      <td>0.769231</td>\n      <td>6.030769</td>\n      <td>0.085121</td>\n      <td>3.780612</td>\n    </tr>\n    <tr>\n      <th>17</th>\n      <td>(SET/6 RED SPOTTY PAPER PLATES)</td>\n      <td>(SET/20 RED RETROSPOT PAPER NAPKINS)</td>\n      <td>0.127551</td>\n      <td>0.132653</td>\n      <td>0.102041</td>\n      <td>0.800000</td>\n      <td>6.030769</td>\n      <td>0.085121</td>\n      <td>4.336735</td>\n    </tr>\n    <tr>\n      <th>18</th>\n      <td>(SET/6 RED SPOTTY PAPER PLATES)</td>\n      <td>(SET/6 RED SPOTTY PAPER CUPS)</td>\n      <td>0.127551</td>\n      <td>0.137755</td>\n      <td>0.122449</td>\n      <td>0.960000</td>\n      <td>6.968889</td>\n      <td>0.104878</td>\n      <td>21.556122</td>\n    </tr>\n    <tr>\n      <th>19</th>\n      <td>(SET/6 RED SPOTTY PAPER CUPS)</td>\n      <td>(SET/6 RED SPOTTY PAPER PLATES)</td>\n      <td>0.137755</td>\n      <td>0.127551</td>\n      <td>0.122449</td>\n      <td>0.888889</td>\n      <td>6.968889</td>\n      <td>0.104878</td>\n      <td>7.852041</td>\n    </tr>\n  </tbody>\n</table>\n</div>"
     },
     "metadata": {},
     "execution_count": 22
    }
   ],
   "source": [
    "rules[ (rules['support'] >= 0.1) &\n",
    "       (rules['confidence'] >= 0.6) ]"
   ]
  },
  {
   "cell_type": "code",
   "execution_count": 21,
   "metadata": {},
   "outputs": [
    {
     "output_type": "execute_result",
     "data": {
      "text/plain": [
       "0.12244897959183673"
      ]
     },
     "metadata": {},
     "execution_count": 21
    }
   ],
   "source": [
    "max(rules['support'])"
   ]
  },
  {
   "cell_type": "code",
   "execution_count": null,
   "metadata": {},
   "outputs": [],
   "source": []
  }
 ]
}