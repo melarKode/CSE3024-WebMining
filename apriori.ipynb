{
 "metadata": {
  "language_info": {
   "codemirror_mode": {
    "name": "ipython",
    "version": 3
   },
   "file_extension": ".py",
   "mimetype": "text/x-python",
   "name": "python",
   "nbconvert_exporter": "python",
   "pygments_lexer": "ipython3",
   "version": "3.8.3-final"
  },
  "orig_nbformat": 2,
  "kernelspec": {
   "name": "Python 3.8.3 64-bit",
   "display_name": "Python 3.8.3 64-bit",
   "metadata": {
    "interpreter": {
     "hash": "f76182b4c67eda9e9be9e2b182aeb8560210f37ed8d48fe08cf5af4d01ee2941"
    }
   }
  }
 },
 "nbformat": 4,
 "nbformat_minor": 2,
 "cells": [
  {
   "cell_type": "code",
   "execution_count": 1,
   "metadata": {},
   "outputs": [],
   "source": [
    "import numpy as np\n",
    "import matplotlib.pyplot as plt\n",
    "import pandas as pd\n",
    "from apyori import apriori"
   ]
  },
  {
   "cell_type": "code",
   "execution_count": 2,
   "metadata": {},
   "outputs": [],
   "source": [
    "store_data = pd.read_csv('store_data.csv');"
   ]
  },
  {
   "cell_type": "code",
   "execution_count": 3,
   "metadata": {},
   "outputs": [
    {
     "output_type": "execute_result",
     "data": {
      "text/plain": [
       "           shrimp    almonds     avocado    vegetables mix green grapes  \\\n",
       "0         burgers  meatballs        eggs               NaN          NaN   \n",
       "1         chutney        NaN         NaN               NaN          NaN   \n",
       "2          turkey    avocado         NaN               NaN          NaN   \n",
       "3   mineral water       milk  energy bar  whole wheat rice    green tea   \n",
       "4  low fat yogurt        NaN         NaN               NaN          NaN   \n",
       "\n",
       "  whole weat flour yams cottage cheese energy drink tomato juice  \\\n",
       "0              NaN  NaN            NaN          NaN          NaN   \n",
       "1              NaN  NaN            NaN          NaN          NaN   \n",
       "2              NaN  NaN            NaN          NaN          NaN   \n",
       "3              NaN  NaN            NaN          NaN          NaN   \n",
       "4              NaN  NaN            NaN          NaN          NaN   \n",
       "\n",
       "  low fat yogurt green tea honey salad mineral water salmon antioxydant juice  \\\n",
       "0            NaN       NaN   NaN   NaN           NaN    NaN               NaN   \n",
       "1            NaN       NaN   NaN   NaN           NaN    NaN               NaN   \n",
       "2            NaN       NaN   NaN   NaN           NaN    NaN               NaN   \n",
       "3            NaN       NaN   NaN   NaN           NaN    NaN               NaN   \n",
       "4            NaN       NaN   NaN   NaN           NaN    NaN               NaN   \n",
       "\n",
       "  frozen smoothie spinach  olive oil  \n",
       "0             NaN     NaN        NaN  \n",
       "1             NaN     NaN        NaN  \n",
       "2             NaN     NaN        NaN  \n",
       "3             NaN     NaN        NaN  \n",
       "4             NaN     NaN        NaN  "
      ],
      "text/html": "<div>\n<style scoped>\n    .dataframe tbody tr th:only-of-type {\n        vertical-align: middle;\n    }\n\n    .dataframe tbody tr th {\n        vertical-align: top;\n    }\n\n    .dataframe thead th {\n        text-align: right;\n    }\n</style>\n<table border=\"1\" class=\"dataframe\">\n  <thead>\n    <tr style=\"text-align: right;\">\n      <th></th>\n      <th>shrimp</th>\n      <th>almonds</th>\n      <th>avocado</th>\n      <th>vegetables mix</th>\n      <th>green grapes</th>\n      <th>whole weat flour</th>\n      <th>yams</th>\n      <th>cottage cheese</th>\n      <th>energy drink</th>\n      <th>tomato juice</th>\n      <th>low fat yogurt</th>\n      <th>green tea</th>\n      <th>honey</th>\n      <th>salad</th>\n      <th>mineral water</th>\n      <th>salmon</th>\n      <th>antioxydant juice</th>\n      <th>frozen smoothie</th>\n      <th>spinach</th>\n      <th>olive oil</th>\n    </tr>\n  </thead>\n  <tbody>\n    <tr>\n      <th>0</th>\n      <td>burgers</td>\n      <td>meatballs</td>\n      <td>eggs</td>\n      <td>NaN</td>\n      <td>NaN</td>\n      <td>NaN</td>\n      <td>NaN</td>\n      <td>NaN</td>\n      <td>NaN</td>\n      <td>NaN</td>\n      <td>NaN</td>\n      <td>NaN</td>\n      <td>NaN</td>\n      <td>NaN</td>\n      <td>NaN</td>\n      <td>NaN</td>\n      <td>NaN</td>\n      <td>NaN</td>\n      <td>NaN</td>\n      <td>NaN</td>\n    </tr>\n    <tr>\n      <th>1</th>\n      <td>chutney</td>\n      <td>NaN</td>\n      <td>NaN</td>\n      <td>NaN</td>\n      <td>NaN</td>\n      <td>NaN</td>\n      <td>NaN</td>\n      <td>NaN</td>\n      <td>NaN</td>\n      <td>NaN</td>\n      <td>NaN</td>\n      <td>NaN</td>\n      <td>NaN</td>\n      <td>NaN</td>\n      <td>NaN</td>\n      <td>NaN</td>\n      <td>NaN</td>\n      <td>NaN</td>\n      <td>NaN</td>\n      <td>NaN</td>\n    </tr>\n    <tr>\n      <th>2</th>\n      <td>turkey</td>\n      <td>avocado</td>\n      <td>NaN</td>\n      <td>NaN</td>\n      <td>NaN</td>\n      <td>NaN</td>\n      <td>NaN</td>\n      <td>NaN</td>\n      <td>NaN</td>\n      <td>NaN</td>\n      <td>NaN</td>\n      <td>NaN</td>\n      <td>NaN</td>\n      <td>NaN</td>\n      <td>NaN</td>\n      <td>NaN</td>\n      <td>NaN</td>\n      <td>NaN</td>\n      <td>NaN</td>\n      <td>NaN</td>\n    </tr>\n    <tr>\n      <th>3</th>\n      <td>mineral water</td>\n      <td>milk</td>\n      <td>energy bar</td>\n      <td>whole wheat rice</td>\n      <td>green tea</td>\n      <td>NaN</td>\n      <td>NaN</td>\n      <td>NaN</td>\n      <td>NaN</td>\n      <td>NaN</td>\n      <td>NaN</td>\n      <td>NaN</td>\n      <td>NaN</td>\n      <td>NaN</td>\n      <td>NaN</td>\n      <td>NaN</td>\n      <td>NaN</td>\n      <td>NaN</td>\n      <td>NaN</td>\n      <td>NaN</td>\n    </tr>\n    <tr>\n      <th>4</th>\n      <td>low fat yogurt</td>\n      <td>NaN</td>\n      <td>NaN</td>\n      <td>NaN</td>\n      <td>NaN</td>\n      <td>NaN</td>\n      <td>NaN</td>\n      <td>NaN</td>\n      <td>NaN</td>\n      <td>NaN</td>\n      <td>NaN</td>\n      <td>NaN</td>\n      <td>NaN</td>\n      <td>NaN</td>\n      <td>NaN</td>\n      <td>NaN</td>\n      <td>NaN</td>\n      <td>NaN</td>\n      <td>NaN</td>\n      <td>NaN</td>\n    </tr>\n  </tbody>\n</table>\n</div>"
     },
     "metadata": {},
     "execution_count": 3
    }
   ],
   "source": [
    "store_data.head()"
   ]
  },
  {
   "cell_type": "code",
   "execution_count": 4,
   "metadata": {},
   "outputs": [],
   "source": [
    "store_data = pd.read_csv('store_data.csv',header=None);"
   ]
  },
  {
   "cell_type": "code",
   "execution_count": 5,
   "metadata": {},
   "outputs": [
    {
     "output_type": "execute_result",
     "data": {
      "text/plain": [
       "              0          1           2                 3             4   \\\n",
       "0         shrimp    almonds     avocado    vegetables mix  green grapes   \n",
       "1        burgers  meatballs        eggs               NaN           NaN   \n",
       "2        chutney        NaN         NaN               NaN           NaN   \n",
       "3         turkey    avocado         NaN               NaN           NaN   \n",
       "4  mineral water       milk  energy bar  whole wheat rice     green tea   \n",
       "\n",
       "                 5     6               7             8             9   \\\n",
       "0  whole weat flour  yams  cottage cheese  energy drink  tomato juice   \n",
       "1               NaN   NaN             NaN           NaN           NaN   \n",
       "2               NaN   NaN             NaN           NaN           NaN   \n",
       "3               NaN   NaN             NaN           NaN           NaN   \n",
       "4               NaN   NaN             NaN           NaN           NaN   \n",
       "\n",
       "               10         11     12     13             14      15  \\\n",
       "0  low fat yogurt  green tea  honey  salad  mineral water  salmon   \n",
       "1             NaN        NaN    NaN    NaN            NaN     NaN   \n",
       "2             NaN        NaN    NaN    NaN            NaN     NaN   \n",
       "3             NaN        NaN    NaN    NaN            NaN     NaN   \n",
       "4             NaN        NaN    NaN    NaN            NaN     NaN   \n",
       "\n",
       "                  16               17       18         19  \n",
       "0  antioxydant juice  frozen smoothie  spinach  olive oil  \n",
       "1                NaN              NaN      NaN        NaN  \n",
       "2                NaN              NaN      NaN        NaN  \n",
       "3                NaN              NaN      NaN        NaN  \n",
       "4                NaN              NaN      NaN        NaN  "
      ],
      "text/html": "<div>\n<style scoped>\n    .dataframe tbody tr th:only-of-type {\n        vertical-align: middle;\n    }\n\n    .dataframe tbody tr th {\n        vertical-align: top;\n    }\n\n    .dataframe thead th {\n        text-align: right;\n    }\n</style>\n<table border=\"1\" class=\"dataframe\">\n  <thead>\n    <tr style=\"text-align: right;\">\n      <th></th>\n      <th>0</th>\n      <th>1</th>\n      <th>2</th>\n      <th>3</th>\n      <th>4</th>\n      <th>5</th>\n      <th>6</th>\n      <th>7</th>\n      <th>8</th>\n      <th>9</th>\n      <th>10</th>\n      <th>11</th>\n      <th>12</th>\n      <th>13</th>\n      <th>14</th>\n      <th>15</th>\n      <th>16</th>\n      <th>17</th>\n      <th>18</th>\n      <th>19</th>\n    </tr>\n  </thead>\n  <tbody>\n    <tr>\n      <th>0</th>\n      <td>shrimp</td>\n      <td>almonds</td>\n      <td>avocado</td>\n      <td>vegetables mix</td>\n      <td>green grapes</td>\n      <td>whole weat flour</td>\n      <td>yams</td>\n      <td>cottage cheese</td>\n      <td>energy drink</td>\n      <td>tomato juice</td>\n      <td>low fat yogurt</td>\n      <td>green tea</td>\n      <td>honey</td>\n      <td>salad</td>\n      <td>mineral water</td>\n      <td>salmon</td>\n      <td>antioxydant juice</td>\n      <td>frozen smoothie</td>\n      <td>spinach</td>\n      <td>olive oil</td>\n    </tr>\n    <tr>\n      <th>1</th>\n      <td>burgers</td>\n      <td>meatballs</td>\n      <td>eggs</td>\n      <td>NaN</td>\n      <td>NaN</td>\n      <td>NaN</td>\n      <td>NaN</td>\n      <td>NaN</td>\n      <td>NaN</td>\n      <td>NaN</td>\n      <td>NaN</td>\n      <td>NaN</td>\n      <td>NaN</td>\n      <td>NaN</td>\n      <td>NaN</td>\n      <td>NaN</td>\n      <td>NaN</td>\n      <td>NaN</td>\n      <td>NaN</td>\n      <td>NaN</td>\n    </tr>\n    <tr>\n      <th>2</th>\n      <td>chutney</td>\n      <td>NaN</td>\n      <td>NaN</td>\n      <td>NaN</td>\n      <td>NaN</td>\n      <td>NaN</td>\n      <td>NaN</td>\n      <td>NaN</td>\n      <td>NaN</td>\n      <td>NaN</td>\n      <td>NaN</td>\n      <td>NaN</td>\n      <td>NaN</td>\n      <td>NaN</td>\n      <td>NaN</td>\n      <td>NaN</td>\n      <td>NaN</td>\n      <td>NaN</td>\n      <td>NaN</td>\n      <td>NaN</td>\n    </tr>\n    <tr>\n      <th>3</th>\n      <td>turkey</td>\n      <td>avocado</td>\n      <td>NaN</td>\n      <td>NaN</td>\n      <td>NaN</td>\n      <td>NaN</td>\n      <td>NaN</td>\n      <td>NaN</td>\n      <td>NaN</td>\n      <td>NaN</td>\n      <td>NaN</td>\n      <td>NaN</td>\n      <td>NaN</td>\n      <td>NaN</td>\n      <td>NaN</td>\n      <td>NaN</td>\n      <td>NaN</td>\n      <td>NaN</td>\n      <td>NaN</td>\n      <td>NaN</td>\n    </tr>\n    <tr>\n      <th>4</th>\n      <td>mineral water</td>\n      <td>milk</td>\n      <td>energy bar</td>\n      <td>whole wheat rice</td>\n      <td>green tea</td>\n      <td>NaN</td>\n      <td>NaN</td>\n      <td>NaN</td>\n      <td>NaN</td>\n      <td>NaN</td>\n      <td>NaN</td>\n      <td>NaN</td>\n      <td>NaN</td>\n      <td>NaN</td>\n      <td>NaN</td>\n      <td>NaN</td>\n      <td>NaN</td>\n      <td>NaN</td>\n      <td>NaN</td>\n      <td>NaN</td>\n    </tr>\n  </tbody>\n</table>\n</div>"
     },
     "metadata": {},
     "execution_count": 5
    }
   ],
   "source": [
    "store_data.head()"
   ]
  },
  {
   "cell_type": "code",
   "execution_count": 6,
   "metadata": {},
   "outputs": [
    {
     "output_type": "execute_result",
     "data": {
      "text/plain": [
       "(7501, 20)"
      ]
     },
     "metadata": {},
     "execution_count": 6
    }
   ],
   "source": [
    "store_data.shape"
   ]
  },
  {
   "cell_type": "code",
   "execution_count": 7,
   "metadata": {},
   "outputs": [],
   "source": [
    "records = []\n",
    "for i in range(0,7501):\n",
    "    records.append([str(store_data.values[i,j]) for j in range(0,20)])"
   ]
  },
  {
   "cell_type": "code",
   "execution_count": 28,
   "metadata": {},
   "outputs": [],
   "source": [
    "association_rules = apriori(records, min_support=0.005, min_confidence=0.2, min_lift=3, min_length=2)"
   ]
  },
  {
   "cell_type": "code",
   "execution_count": 29,
   "metadata": {},
   "outputs": [],
   "source": [
    "association_results = list(association_rules)"
   ]
  },
  {
   "cell_type": "code",
   "execution_count": 30,
   "metadata": {},
   "outputs": [
    {
     "output_type": "stream",
     "name": "stdout",
     "text": [
      "38\n"
     ]
    }
   ],
   "source": [
    "print(len(association_results))"
   ]
  },
  {
   "cell_type": "code",
   "execution_count": 31,
   "metadata": {},
   "outputs": [
    {
     "output_type": "stream",
     "name": "stdout",
     "text": [
      "RelationRecord(items=frozenset({'mushroom cream sauce', 'escalope'}), support=0.005732568990801226, ordered_statistics=[OrderedStatistic(items_base=frozenset({'mushroom cream sauce'}), items_add=frozenset({'escalope'}), confidence=0.3006993006993007, lift=3.790832696715049)])\n"
     ]
    }
   ],
   "source": [
    "print(association_results[0])"
   ]
  },
  {
   "cell_type": "code",
   "execution_count": 32,
   "metadata": {},
   "outputs": [
    {
     "output_type": "stream",
     "name": "stdout",
     "text": [
      "Rule: mushroom cream sauce -> escalope\nSupport: 0.005732568990801226\nConfidence: 0.3006993006993007\nLift: 3.790832696715049\n=====================================\nRule: escalope -> pasta\nSupport: 0.005865884548726837\nConfidence: 0.3728813559322034\nLift: 4.700811850163794\n=====================================\nRule: herb & pepper -> ground beef\nSupport: 0.015997866951073192\nConfidence: 0.3234501347708895\nLift: 3.2919938411349285\n=====================================\nRule: tomato sauce -> ground beef\nSupport: 0.005332622317024397\nConfidence: 0.3773584905660377\nLift: 3.840659481324083\n=====================================\nRule: whole wheat pasta -> olive oil\nSupport: 0.007998933475536596\nConfidence: 0.2714932126696833\nLift: 4.122410097642296\n=====================================\nRule: shrimp -> pasta\nSupport: 0.005065991201173177\nConfidence: 0.3220338983050847\nLift: 4.506672147735896\n=====================================\nRule: chocolate -> frozen vegetables\nSupport: 0.005332622317024397\nConfidence: 0.23255813953488375\nLift: 3.2545123221103784\n=====================================\nRule: nan -> mushroom cream sauce\nSupport: 0.005732568990801226\nConfidence: 0.3006993006993007\nLift: 3.790832696715049\n=====================================\nRule: nan -> escalope\nSupport: 0.005865884548726837\nConfidence: 0.3728813559322034\nLift: 4.700811850163794\n=====================================\nRule: frozen vegetables -> ground beef\nSupport: 0.008665511265164644\nConfidence: 0.31100478468899523\nLift: 3.165328208890303\n=====================================\nRule: frozen vegetables -> mineral water\nSupport: 0.007199040127982935\nConfidence: 0.30508474576271183\nLift: 3.200616332819722\n=====================================\nRule: frozen vegetables -> spaghetti\nSupport: 0.005732568990801226\nConfidence: 0.20574162679425836\nLift: 3.1240241752707125\n=====================================\nRule: frozen vegetables -> spaghetti\nSupport: 0.005999200106652446\nConfidence: 0.21531100478468898\nLift: 3.0131489680782684\n=====================================\nRule: frozen vegetables -> spaghetti\nSupport: 0.006665777896280496\nConfidence: 0.23923444976076558\nLift: 3.4980460188216425\n=====================================\nRule: ground beef -> spaghetti\nSupport: 0.005332622317024397\nConfidence: 0.3225806451612903\nLift: 3.283144395325426\n=====================================\nRule: herb & pepper -> ground beef\nSupport: 0.006665777896280496\nConfidence: 0.39062500000000006\nLift: 3.975682666214383\n=====================================\nRule: herb & pepper -> ground beef\nSupport: 0.015997866951073192\nConfidence: 0.3234501347708895\nLift: 3.2919938411349285\n=====================================\nRule: herb & pepper -> ground beef\nSupport: 0.006399146780429276\nConfidence: 0.3934426229508197\nLift: 4.004359721511667\n=====================================\nRule: nan -> ground beef\nSupport: 0.005332622317024397\nConfidence: 0.3773584905660377\nLift: 3.840659481324083\n=====================================\nRule: ground beef -> spaghetti\nSupport: 0.005999200106652446\nConfidence: 0.5232558139534884\nLift: 3.005315360233627\n=====================================\nRule: milk -> spaghetti\nSupport: 0.007199040127982935\nConfidence: 0.20300751879699247\nLift: 3.0825089038385434\n=====================================\nRule: mineral water -> olive oil\nSupport: 0.005199306759098787\nConfidence: 0.22543352601156072\nLift: 3.4230301186492245\n=====================================\nRule: nan -> whole wheat pasta\nSupport: 0.007998933475536596\nConfidence: 0.2714932126696833\nLift: 4.13077198425009\n=====================================\nRule: nan -> shrimp\nSupport: 0.005065991201173177\nConfidence: 0.3220338983050847\nLift: 4.515095833993347\n=====================================\nRule: pancakes -> spaghetti\nSupport: 0.005065991201173177\nConfidence: 0.20105820105820105\nLift: 3.0529100529100526\n=====================================\nRule: chocolate -> frozen vegetables\nSupport: 0.005332622317024397\nConfidence: 0.23255813953488375\nLift: 3.260595522712454\n=====================================\nRule: frozen vegetables -> ground beef\nSupport: 0.008665511265164644\nConfidence: 0.31100478468899523\nLift: 3.165328208890303\n=====================================\nRule: frozen vegetables -> mineral water\nSupport: 0.007199040127982935\nConfidence: 0.30508474576271183\nLift: 3.200616332819722\n=====================================\nRule: frozen vegetables -> spaghetti\nSupport: 0.005732568990801226\nConfidence: 0.20574162679425836\nLift: 3.1303609383037156\n=====================================\nRule: frozen vegetables -> spaghetti\nSupport: 0.005999200106652446\nConfidence: 0.21531100478468898\nLift: 3.0187810222242093\n=====================================\nRule: frozen vegetables -> spaghetti\nSupport: 0.006665777896280496\nConfidence: 0.23923444976076558\nLift: 3.4980460188216425\n=====================================\nRule: nan -> ground beef\nSupport: 0.005332622317024397\nConfidence: 0.3225806451612903\nLift: 3.283144395325426\n=====================================\nRule: herb & pepper -> ground beef\nSupport: 0.006665777896280496\nConfidence: 0.39062500000000006\nLift: 3.975682666214383\n=====================================\nRule: herb & pepper -> ground beef\nSupport: 0.006399146780429276\nConfidence: 0.3934426229508197\nLift: 4.004359721511667\n=====================================\nRule: nan -> ground beef\nSupport: 0.005999200106652446\nConfidence: 0.5232558139534884\nLift: 3.005315360233627\n=====================================\nRule: nan -> milk\nSupport: 0.007199040127982935\nConfidence: 0.20300751879699247\nLift: 3.088761457396025\n=====================================\nRule: nan -> mineral water\nSupport: 0.005199306759098787\nConfidence: 0.22543352601156072\nLift: 3.429973384609973\n=====================================\nRule: nan -> spaghetti\nSupport: 0.005065991201173177\nConfidence: 0.20105820105820105\nLift: 3.0591025682303568\n=====================================\n"
     ]
    }
   ],
   "source": [
    "for item in association_results:\n",
    "\n",
    "    # first index of the inner list\n",
    "    # Contains base item and add item\n",
    "    pair = item[0] \n",
    "    items = [x for x in pair]\n",
    "    print(\"Rule: \" + items[0] + \" -> \" + items[1],end='\\n')\n",
    "\n",
    "    #second index of the inner list\n",
    "    print(\"Support: \" + str(item[1]),end='\\n')\n",
    "\n",
    "    #third index of the list located at 0th\n",
    "    #of the third index of the inner list\n",
    "\n",
    "    print(\"Confidence: \" + str(item[2][0][2]),end='\\n')\n",
    "    print(\"Lift: \" + str(item[2][0][3]),end='\\n')\n",
    "    print(\"=====================================\",end='\\n')"
   ]
  },
  {
   "cell_type": "code",
   "execution_count": null,
   "metadata": {},
   "outputs": [],
   "source": []
  }
 ]
}