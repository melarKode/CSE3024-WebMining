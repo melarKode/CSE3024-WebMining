{
 "metadata": {
  "language_info": {
   "codemirror_mode": {
    "name": "ipython",
    "version": 3
   },
   "file_extension": ".py",
   "mimetype": "text/x-python",
   "name": "python",
   "nbconvert_exporter": "python",
   "pygments_lexer": "ipython3",
   "version": "3.8.3-final"
  },
  "orig_nbformat": 2,
  "kernelspec": {
   "name": "python_defaultSpec_1598770684380",
   "display_name": "Python 3.8.3 64-bit"
  }
 },
 "nbformat": 4,
 "nbformat_minor": 2,
 "cells": [
  {
   "cell_type": "code",
   "execution_count": 1,
   "metadata": {
    "tags": []
   },
   "outputs": [
    {
     "output_type": "stream",
     "name": "stdout",
     "text": "{'https://github.com/': 'The world’s leading software development platform · GitHub', 'https://www.facebook.com/': 'Facebook - लॉग इन किंवा साइन अप', 'https://pirateproxy.cloud/': \"Download music, movies, games, software! The Pirate Bay - The galaxy's most resilient BitTorrent site\", 'https://edmundmartin.com/': 'Edmund Martin – Python, Golang and Programming', 'https://www.udemy.com/': 'Online Courses - Learn Anything, On Your Schedule | Udemy'}\n"
    }
   ],
   "source": [
    "from concurrent.futures import ThreadPoolExecutor\n",
    "\n",
    "import requests\n",
    "from bs4 import BeautifulSoup\n",
    "\n",
    "class ConcurrentListCrawler(object):\n",
    "\n",
    "    def __init__(self, url_list, threads):\n",
    "\n",
    "        self.urls = url_list\n",
    "        self.results = {}\n",
    "        self.max_threads = threads\n",
    "\n",
    "    def __make_request(self, url):\n",
    "        try:\n",
    "            r = requests.get(url=url, timeout=20)\n",
    "            r.raise_for_status()\n",
    "        except requests.exceptions.Timeout:\n",
    "            r = requests.get(url=url, timeout=60)\n",
    "        except requests.exceptions.ConnectionError:\n",
    "            r = requests.get(url=url, timeout=60)\n",
    "        except requests.exceptions.RequestException as e:\n",
    "            raise e\n",
    "        return r.url, r.text\n",
    "\n",
    "    def __parse_results(self, url, html):\n",
    "\n",
    "        try:\n",
    "            soup = BeautifulSoup(html, 'html.parser')\n",
    "            title = soup.find('title').get_text()\n",
    "        except Exception as e:\n",
    "            raise e\n",
    "\n",
    "        if title:\n",
    "            self.results[url] = title\n",
    "\n",
    "    def wrapper(self, url):\n",
    "        url, html = self.__make_request(url)\n",
    "        self.__parse_results(url, html)\n",
    "\n",
    "    def run_script(self):\n",
    "        with ThreadPoolExecutor(max_workers=min(len(self.urls),self.max_threads)) as Executor:\n",
    "            jobs = [Executor.submit(self.wrapper, u) for u in self.urls]\n",
    "\n",
    "\n",
    "if __name__ == '__main__':\n",
    "    example = ConcurrentListCrawler(['https://edmundmartin.com',\n",
    "                                     'https://www.udemy.com',\n",
    "                                     'https://github.com/',\n",
    "                                     'https://pirateproxy.cc',\n",
    "                                     'https://www.facebook.com/'],5)\n",
    "    example.run_script()\n",
    "    print(example.results)"
   ]
  },
  {
   "cell_type": "code",
   "execution_count": null,
   "metadata": {},
   "outputs": [],
   "source": []
  }
 ]
}