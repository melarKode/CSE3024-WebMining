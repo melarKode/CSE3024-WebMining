{
 "cells": [
  {
   "cell_type": "code",
   "execution_count": 33,
   "metadata": {},
   "outputs": [],
   "source": [
    "import nltk"
   ]
  },
  {
   "cell_type": "code",
   "execution_count": 34,
   "metadata": {},
   "outputs": [
    {
     "name": "stdin",
     "output_type": "stream",
     "text": [
      "Enter Text:  A paragraph is a series of related sentences developing a central idea, called the topic. Try to think about paragraphs in terms of thematic unity: a paragraph is a sentence or a group of sentences that supports one central, unified idea. Paragraphs add one idea at a time to your broader argument.  How do I unify my ideas in a paragraph? Probably the most effective way to achieve paragraph unity is to express the central idea of the paragraph in a topic sentence.  Topic sentences are similar to mini thesis statements. Like a thesis statement, a topic sentence has a specific main point. Whereas the thesis is the main point of the essay, the topic sentence is the main point of the paragraph. Like the thesis statement, a topic sentence has a unifying function. But a thesis statement or topic sentence alone doesn’t guarantee unity. An essay is unified if all the paragraphs relate to the thesis, whereas a paragraph is unified if all the sentences relate to the topic sentence. Note: Not all paragraphs need topic sentences. In particular, opening and closing paragraphs, which serve different functions from body paragraphs, generally don’t have topic sentences.  In academic writing, the topic sentence nearly always works best at the beginning of a paragraph so that the reader knows what to expect:  The embrace of Twitter by politicians and journalists has been one of its most notable features in recent years: for both groups the use of Twitter is becoming close to a requirement.\n"
     ]
    }
   ],
   "source": [
    "text = str(input('Enter Text: '))"
   ]
  },
  {
   "cell_type": "code",
   "execution_count": 49,
   "metadata": {},
   "outputs": [
    {
     "name": "stdout",
     "output_type": "stream",
     "text": [
      "['a', 'paragraph', 'is', 'a', 'series', 'of', 'related', 'sentences', 'developing', 'a', 'central', 'idea', 'called', 'the', 'topic', 'try', 'to', 'think', 'about', 'paragraphs', 'in', 'terms', 'of', 'thematic', 'unity', 'a', 'paragraph', 'is', 'a', 'sentence', 'or', 'a', 'group', 'of', 'sentences', 'that', 'supports', 'one', 'central', 'unified', 'idea', 'paragraphs', 'add', 'one', 'idea', 'at', 'a', 'time', 'to', 'your', 'broader', 'argument', 'how', 'do', 'i', 'unify', 'my', 'ideas', 'in', 'a', 'paragraph', 'probably', 'the', 'most', 'effective', 'way', 'to', 'achieve', 'paragraph', 'unity', 'is', 'to', 'express', 'the', 'central', 'idea', 'of', 'the', 'paragraph', 'in', 'a', 'topic', 'sentence', 'topic', 'sentences', 'are', 'similar', 'to', 'mini', 'thesis', 'statements', 'like', 'a', 'thesis', 'statement', 'a', 'topic', 'sentence', 'has', 'a', 'specific', 'main', 'point', 'whereas', 'the', 'thesis', 'is', 'the', 'main', 'point', 'of', 'the', 'essay', 'the', 'topic', 'sentence', 'is', 'the', 'main', 'point', 'of', 'the', 'paragraph', 'like', 'the', 'thesis', 'statement', 'a', 'topic', 'sentence', 'has', 'a', 'unifying', 'function', 'but', 'a', 'thesis', 'statement', 'or', 'topic', 'sentence', 'alone', 'doesn', 't', 'guarantee', 'unity', 'an', 'essay', 'is', 'unified', 'if', 'all', 'the', 'paragraphs', 'relate', 'to', 'the', 'thesis', 'whereas', 'a', 'paragraph', 'is', 'unified', 'if', 'all', 'the', 'sentences', 'relate', 'to', 'the', 'topic', 'sentence', 'note', 'not', 'all', 'paragraphs', 'need', 'topic', 'sentences', 'in', 'particular', 'opening', 'and', 'closing', 'paragraphs', 'which', 'serve', 'different', 'functions', 'from', 'body', 'paragraphs', 'generally', 'don', 't', 'have', 'topic', 'sentences', 'in', 'academic', 'writing', 'the', 'topic', 'sentence', 'nearly', 'always', 'works', 'best', 'at', 'the', 'beginning', 'of', 'a', 'paragraph', 'so', 'that', 'the', 'reader', 'knows', 'what', 'to', 'expect', 'the', 'embrace', 'of', 'twitter', 'by', 'politicians', 'and', 'journalists', 'has', 'been', 'one', 'of', 'its', 'most', 'notable', 'features', 'in', 'recent', 'years', 'for', 'both', 'groups', 'the', 'use', 'of', 'twitter', 'is', 'becoming', 'close', 'to', 'a', 'requirement']\n"
     ]
    }
   ],
   "source": [
    "from nltk.tokenize import RegexpTokenizer\n",
    "\n",
    "tokenizer = RegexpTokenizer(r'\\w+')\n",
    "l = tokenizer.tokenize(text.lower())\n",
    "print(l)"
   ]
  },
  {
   "cell_type": "code",
   "execution_count": 50,
   "metadata": {},
   "outputs": [],
   "source": [
    "dist = nltk.FreqDist(l)"
   ]
  },
  {
   "cell_type": "code",
   "execution_count": 64,
   "metadata": {},
   "outputs": [
    {
     "name": "stdout",
     "output_type": "stream",
     "text": [
      "the - 20\n",
      "a - 18\n",
      "topic - 11\n",
      "of - 10\n",
      "to - 9\n",
      "paragraph - 8\n",
      "is - 8\n",
      "sentence - 8\n",
      "sentences - 6\n",
      "paragraphs - 6\n",
      "in - 6\n",
      "thesis - 6\n",
      "idea - 4\n",
      "central - 3\n",
      "unity - 3\n",
      "one - 3\n",
      "unified - 3\n",
      "statement - 3\n",
      "has - 3\n",
      "main - 3\n",
      "point - 3\n",
      "all - 3\n",
      "or - 2\n",
      "that - 2\n",
      "at - 2\n",
      "most - 2\n",
      "like - 2\n",
      "whereas - 2\n",
      "essay - 2\n",
      "t - 2\n",
      "if - 2\n",
      "relate - 2\n",
      "and - 2\n",
      "twitter - 2\n",
      "series - 1\n",
      "related - 1\n",
      "developing - 1\n",
      "called - 1\n",
      "try - 1\n",
      "think - 1\n",
      "about - 1\n",
      "terms - 1\n",
      "thematic - 1\n",
      "group - 1\n",
      "supports - 1\n",
      "add - 1\n",
      "time - 1\n",
      "your - 1\n",
      "broader - 1\n",
      "argument - 1\n",
      "how - 1\n",
      "do - 1\n",
      "i - 1\n",
      "unify - 1\n",
      "my - 1\n",
      "ideas - 1\n",
      "probably - 1\n",
      "effective - 1\n",
      "way - 1\n",
      "achieve - 1\n",
      "express - 1\n",
      "are - 1\n",
      "similar - 1\n",
      "mini - 1\n",
      "statements - 1\n",
      "specific - 1\n",
      "unifying - 1\n",
      "function - 1\n",
      "but - 1\n",
      "alone - 1\n",
      "doesn - 1\n",
      "guarantee - 1\n",
      "an - 1\n",
      "note - 1\n",
      "not - 1\n",
      "need - 1\n",
      "particular - 1\n",
      "opening - 1\n",
      "closing - 1\n",
      "which - 1\n",
      "serve - 1\n",
      "different - 1\n",
      "functions - 1\n",
      "from - 1\n",
      "body - 1\n",
      "generally - 1\n",
      "don - 1\n",
      "have - 1\n",
      "academic - 1\n",
      "writing - 1\n",
      "nearly - 1\n",
      "always - 1\n",
      "works - 1\n",
      "best - 1\n",
      "beginning - 1\n",
      "so - 1\n",
      "reader - 1\n",
      "knows - 1\n",
      "what - 1\n",
      "expect - 1\n",
      "embrace - 1\n",
      "by - 1\n",
      "politicians - 1\n",
      "journalists - 1\n",
      "been - 1\n",
      "its - 1\n",
      "notable - 1\n",
      "features - 1\n",
      "recent - 1\n",
      "years - 1\n",
      "for - 1\n",
      "both - 1\n",
      "groups - 1\n",
      "use - 1\n",
      "becoming - 1\n",
      "close - 1\n",
      "requirement - 1\n"
     ]
    },
    {
     "data": {
      "image/png": "[encoded data removed]",
      "text/plain": [
       "<Figure size 432x288 with 1 Axes>"
      ]
     },
     "metadata": {
      "needs_background": "light"
     },
     "output_type": "display_data"
    },
    {
     "data": {
      "text/plain": [
       "<matplotlib.axes._subplots.AxesSubplot at 0x26749704e80>"
      ]
     },
     "execution_count": 64,
     "metadata": {},
     "output_type": "execute_result"
    }
   ],
   "source": [
    "freq = sorted(dist.items(),key = lambda x: x[1], reverse=True)\n",
    "for x,y in freq:\n",
    "    print(\"{} - {}\".format(x,y))\n",
    "dist.plot(25, cumulative=False)"
   ]
  },
  {
   "cell_type": "code",
   "execution_count": null,
   "metadata": {},
   "outputs": [],
   "source": []
  }
 ],
 "metadata": {
  "kernelspec": {
   "display_name": "Python 3.8.3 64-bit",
   "language": "python",
   "name": "python38364bit9174c46b1a2d4c13aa081a6b0c594368"
  },
  "language_info": {
   "codemirror_mode": {
    "name": "ipython",
    "version": 3
   },
   "file_extension": ".py",
   "mimetype": "text/x-python",
   "name": "python",
   "nbconvert_exporter": "python",
   "pygments_lexer": "ipython3",
   "version": "3.8.3"
  }
 },
 "nbformat": 4,
 "nbformat_minor": 4
}
